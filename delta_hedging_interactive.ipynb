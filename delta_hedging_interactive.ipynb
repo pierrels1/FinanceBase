{
 "cells": [
  {
   "cell_type": "code",
   "execution_count": 1,
   "id": "067dbf32",
   "metadata": {},
   "outputs": [
    {
     "data": {
      "application/vnd.jupyter.widget-view+json": {
       "model_id": "071fced5b8454546b0f2a9a17a865331",
       "version_major": 2,
       "version_minor": 0
      },
      "text/plain": [
       "interactive(children=(FloatSlider(value=100.0, description='Spot initial', max=150.0, min=50.0, step=1.0), Flo…"
      ]
     },
     "metadata": {},
     "output_type": "display_data"
    }
   ],
   "source": [
    "import numpy as np\n",
    "import plotly.graph_objects as go\n",
    "from ipywidgets import interact, FloatSlider, IntSlider, Dropdown\n",
    "from black_scholes import black_scholes_price, compute_greeks\n",
    "\n",
    "def simulate_delta_hedging_gbm(S0, K, T, r, sigma_imp, sigma_mkt, option_type, steps, n_sim):\n",
    "    dt = T / steps\n",
    "    pnl_list = []\n",
    "\n",
    "    for sim in range(n_sim):\n",
    "        S_path = [S0]\n",
    "        for _ in range(steps):\n",
    "            z = np.random.normal()\n",
    "            S_next = S_path[-1] * np.exp((r - 0.5 * sigma_mkt**2) * dt + sigma_mkt * np.sqrt(dt) * z)\n",
    "            S_path.append(S_next)\n",
    "        S_path = np.array(S_path)\n",
    "        times = np.linspace(0, T, steps + 1)\n",
    "\n",
    "        cash_account = 0\n",
    "        delta_prev = 0\n",
    "\n",
    "        for i, (t, S) in enumerate(zip(times[:-1], S_path[:-1])):\n",
    "            T_remaining = T - t\n",
    "            delta, _, _ = compute_greeks(S, K, T_remaining, r, sigma_imp, option_type)\n",
    "\n",
    "            d_delta = delta - delta_prev\n",
    "            cash_account -= d_delta * S\n",
    "            cash_account *= np.exp(r * dt)\n",
    "            delta_prev = delta\n",
    "\n",
    "        portfolio_value = delta_prev * S_path[-1] + cash_account\n",
    "        payoff = max(S_path[-1] - K, 0) if option_type == \"call\" else max(K - S_path[-1], 0)\n",
    "        pnl = portfolio_value - payoff\n",
    "        pnl_list.append(pnl)\n",
    "\n",
    "    pnl_array = np.array(pnl_list)\n",
    "    return pnl_array\n",
    "\n",
    "def plot_pnl_distribution(pnl_array):\n",
    "    fig = go.Figure()\n",
    "    fig.add_trace(go.Histogram(x=pnl_array, nbinsx=50, marker_color='skyblue'))\n",
    "    fig.update_layout(\n",
    "        title=\"Distribution du PnL de la stratégie Delta Hedging\",\n",
    "        xaxis_title=\"PnL (€)\",\n",
    "        yaxis_title=\"Fréquence\",\n",
    "        bargap=0.1,\n",
    "        template=\"plotly_white\"\n",
    "    )\n",
    "    fig.show()\n",
    "\n",
    "@interact(\n",
    "    S0=FloatSlider(min=50, max=150, step=1, value=100, description='Spot initial'),\n",
    "    K=FloatSlider(min=50, max=150, step=1, value=100, description='Strike'),\n",
    "    T=FloatSlider(min=0.01, max=1, step=0.01, value=30/365, description='Maturité (ans)'),\n",
    "    r=FloatSlider(min=0, max=0.1, step=0.001, value=0.01, description='Taux sans risque'),\n",
    "    sigma_imp=FloatSlider(min=0.05, max=1, step=0.01, value=0.2, description='Vol Implicite'),\n",
    "    sigma_mkt=FloatSlider(min=0.05, max=1, step=0.01, value=0.25, description='Vol Marché'),\n",
    "    option_type=Dropdown(options=['call', 'put'], value='call', description='Option type'),\n",
    "    steps=IntSlider(min=10, max=100, step=5, value=30, description='Steps (jours)'),\n",
    "    n_sim=IntSlider(min=100, max=5000, step=100, value=1000, description='Simulations')\n",
    ")\n",
    "def run_simulation(S0, K, T, r, sigma_imp, sigma_mkt, option_type, steps, n_sim):\n",
    "    pnl = simulate_delta_hedging_gbm(S0, K, T, r, sigma_imp, sigma_mkt, option_type, steps, n_sim)\n",
    "    print(f\"PnL moyen : {np.mean(pnl):.4f} €\")\n",
    "    print(f\"PnL std : {np.std(pnl):.4f} €\")\n",
    "    plot_pnl_distribution(pnl)\n",
    "    "
   ]
  }
 ],
 "metadata": {
  "kernelspec": {
   "display_name": ".venv",
   "language": "python",
   "name": "python3"
  },
  "language_info": {
   "codemirror_mode": {
    "name": "ipython",
    "version": 3
   },
   "file_extension": ".py",
   "mimetype": "text/x-python",
   "name": "python",
   "nbconvert_exporter": "python",
   "pygments_lexer": "ipython3",
   "version": "3.13.3"
  }
 },
 "nbformat": 4,
 "nbformat_minor": 5
}
